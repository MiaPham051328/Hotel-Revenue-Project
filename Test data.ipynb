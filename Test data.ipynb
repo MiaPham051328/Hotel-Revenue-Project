{
 "cells": [
  {
   "cell_type": "code",
   "execution_count": null,
   "id": "cc3e7201",
   "metadata": {},
   "outputs": [],
   "source": [
    "# load sample dataset\n",
    "import pandas as pd\n",
    "import seaborn as sns\n",
    "\n",
    "from ydata_profiling import ProfileReport\n",
    "\n",
    "from sklearn.model_selection import train_test_split\n",
    "from sklearn.datasets import make_regression\n",
    "from sklearn.ensemble import GradientBoostingRegressor\n",
    "from sklearn.pipeline import make_pipeline, Pipeline\n",
    "from sklearn.impute import SimpleImputer\n",
    "from sklearn.preprocessing import OneHotEncoder, StandardScaler\n",
    "from sklearn.compose import ColumnTransformer\n",
    "from sklearn.metrics import r2_score\n",
    "from sklearn.metrics import mean_absolute_error\n",
    "from sklearn.metrics import mean_absolute_percentage_error\n",
    "\n",
    "# from yellowbrick.regressor import PredictionError\n",
    "\n",
    "df = pd.read_csv('./data/hotel_revenue.csv')\n",
    "print(df.shape)\n",
    "df"
   ]
  },
  {
   "cell_type": "code",
   "execution_count": null,
   "id": "bec4b672",
   "metadata": {},
   "outputs": [],
   "source": [
    "# simple check for nulls\n",
    "df.isna().sum()[df.isna().sum() > 0]"
   ]
  },
  {
   "cell_type": "code",
   "execution_count": null,
   "id": "90a8b665",
   "metadata": {},
   "outputs": [],
   "source": [
    "profile = ProfileReport(df)\n",
    "# profile.to_notebook_iframe()\n",
    "profile.to_file('./hotel_rev.html')"
   ]
  },
  {
   "cell_type": "code",
   "execution_count": null,
   "id": "cf984a5c",
   "metadata": {},
   "outputs": [],
   "source": [
    "num_cols = df.select_dtypes(include = 'number').columns\n",
    "cat_cols = df.select_dtypes(include = 'object').columns"
   ]
  },
  {
   "cell_type": "code",
   "execution_count": null,
   "id": "7918c596",
   "metadata": {},
   "outputs": [],
   "source": [
    "df[cat_cols].describe().T"
   ]
  },
  {
   "cell_type": "code",
   "execution_count": null,
   "id": "d4aeef8d",
   "metadata": {},
   "outputs": [],
   "source": [
    "df[num_cols].describe().T"
   ]
  },
  {
   "cell_type": "code",
   "execution_count": null,
   "id": "94e350de",
   "metadata": {},
   "outputs": [],
   "source": []
  }
 ],
 "metadata": {
  "kernelspec": {
   "display_name": "Python 3 (ipykernel)",
   "language": "python",
   "name": "python3"
  },
  "language_info": {
   "codemirror_mode": {
    "name": "ipython",
    "version": 3
   },
   "file_extension": ".py",
   "mimetype": "text/x-python",
   "name": "python",
   "nbconvert_exporter": "python",
   "pygments_lexer": "ipython3",
   "version": "3.9.16"
  }
 },
 "nbformat": 4,
 "nbformat_minor": 5
}
