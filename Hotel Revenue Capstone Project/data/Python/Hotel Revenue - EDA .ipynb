{
 "cells": [
  {
   "cell_type": "code",
   "execution_count": 1,
   "id": "2c6e4ab5",
   "metadata": {},
   "outputs": [],
   "source": [
    "# Import libararies\n",
    "import pandas as pd\n",
    "import numpy as np\n",
    "import matplotlib.pyplot as plt \n",
    "import seaborn as sns\n",
    "\n",
    "pd.set_option('display.max_columns', None)"
   ]
  },
  {
   "cell_type": "code",
   "execution_count": 2,
   "id": "fc0be103",
   "metadata": {},
   "outputs": [
    {
     "name": "stdout",
     "output_type": "stream",
     "text": [
      "(141497, 28)\n"
     ]
    },
    {
     "data": {
      "text/html": [
       "<div>\n",
       "<style scoped>\n",
       "    .dataframe tbody tr th:only-of-type {\n",
       "        vertical-align: middle;\n",
       "    }\n",
       "\n",
       "    .dataframe tbody tr th {\n",
       "        vertical-align: top;\n",
       "    }\n",
       "\n",
       "    .dataframe thead th {\n",
       "        text-align: right;\n",
       "    }\n",
       "</style>\n",
       "<table border=\"1\" class=\"dataframe\">\n",
       "  <thead>\n",
       "    <tr style=\"text-align: right;\">\n",
       "      <th></th>\n",
       "      <th>hotel</th>\n",
       "      <th>is_canceled</th>\n",
       "      <th>lead_time</th>\n",
       "      <th>arrival_date_year</th>\n",
       "      <th>arrival_date_month</th>\n",
       "      <th>arrival_date_week_number</th>\n",
       "      <th>arrival_date_day_of_month</th>\n",
       "      <th>stays_in_weekend_nights</th>\n",
       "      <th>stays_in_week_nights</th>\n",
       "      <th>adults</th>\n",
       "      <th>children</th>\n",
       "      <th>babies</th>\n",
       "      <th>meal</th>\n",
       "      <th>country</th>\n",
       "      <th>market_segment</th>\n",
       "      <th>distribution_channel</th>\n",
       "      <th>is_repeated_guest</th>\n",
       "      <th>previous_cancellations</th>\n",
       "      <th>previous_bookings_not_canceled</th>\n",
       "      <th>booking_changes</th>\n",
       "      <th>deposit_type</th>\n",
       "      <th>agent</th>\n",
       "      <th>days_in_waiting_list</th>\n",
       "      <th>customer_type</th>\n",
       "      <th>adr</th>\n",
       "      <th>required_car_parking_spaces</th>\n",
       "      <th>total_of_special_requests</th>\n",
       "      <th>reservation_status</th>\n",
       "    </tr>\n",
       "  </thead>\n",
       "  <tbody>\n",
       "    <tr>\n",
       "      <th>0</th>\n",
       "      <td>Resort Hotel</td>\n",
       "      <td>1</td>\n",
       "      <td>85</td>\n",
       "      <td>2018</td>\n",
       "      <td>July</td>\n",
       "      <td>27</td>\n",
       "      <td>1</td>\n",
       "      <td>0</td>\n",
       "      <td>3</td>\n",
       "      <td>2</td>\n",
       "      <td>0</td>\n",
       "      <td>0</td>\n",
       "      <td>BB</td>\n",
       "      <td>PRT</td>\n",
       "      <td>Online TA</td>\n",
       "      <td>TA/TO</td>\n",
       "      <td>0</td>\n",
       "      <td>0</td>\n",
       "      <td>0</td>\n",
       "      <td>0</td>\n",
       "      <td>No Deposit</td>\n",
       "      <td>240</td>\n",
       "      <td>0</td>\n",
       "      <td>Transient</td>\n",
       "      <td>82.0</td>\n",
       "      <td>0</td>\n",
       "      <td>1</td>\n",
       "      <td>Canceled</td>\n",
       "    </tr>\n",
       "    <tr>\n",
       "      <th>1</th>\n",
       "      <td>Resort Hotel</td>\n",
       "      <td>1</td>\n",
       "      <td>75</td>\n",
       "      <td>2018</td>\n",
       "      <td>July</td>\n",
       "      <td>27</td>\n",
       "      <td>1</td>\n",
       "      <td>0</td>\n",
       "      <td>3</td>\n",
       "      <td>2</td>\n",
       "      <td>0</td>\n",
       "      <td>0</td>\n",
       "      <td>HB</td>\n",
       "      <td>PRT</td>\n",
       "      <td>Offline TA/TO</td>\n",
       "      <td>TA/TO</td>\n",
       "      <td>0</td>\n",
       "      <td>0</td>\n",
       "      <td>0</td>\n",
       "      <td>0</td>\n",
       "      <td>No Deposit</td>\n",
       "      <td>15</td>\n",
       "      <td>0</td>\n",
       "      <td>Transient</td>\n",
       "      <td>105.5</td>\n",
       "      <td>0</td>\n",
       "      <td>0</td>\n",
       "      <td>Canceled</td>\n",
       "    </tr>\n",
       "    <tr>\n",
       "      <th>2</th>\n",
       "      <td>Resort Hotel</td>\n",
       "      <td>1</td>\n",
       "      <td>23</td>\n",
       "      <td>2018</td>\n",
       "      <td>July</td>\n",
       "      <td>27</td>\n",
       "      <td>1</td>\n",
       "      <td>0</td>\n",
       "      <td>4</td>\n",
       "      <td>2</td>\n",
       "      <td>0</td>\n",
       "      <td>0</td>\n",
       "      <td>BB</td>\n",
       "      <td>PRT</td>\n",
       "      <td>Online TA</td>\n",
       "      <td>TA/TO</td>\n",
       "      <td>0</td>\n",
       "      <td>0</td>\n",
       "      <td>0</td>\n",
       "      <td>0</td>\n",
       "      <td>No Deposit</td>\n",
       "      <td>240</td>\n",
       "      <td>0</td>\n",
       "      <td>Transient</td>\n",
       "      <td>123.0</td>\n",
       "      <td>0</td>\n",
       "      <td>0</td>\n",
       "      <td>Canceled</td>\n",
       "    </tr>\n",
       "    <tr>\n",
       "      <th>3</th>\n",
       "      <td>Resort Hotel</td>\n",
       "      <td>1</td>\n",
       "      <td>60</td>\n",
       "      <td>2018</td>\n",
       "      <td>July</td>\n",
       "      <td>27</td>\n",
       "      <td>1</td>\n",
       "      <td>2</td>\n",
       "      <td>5</td>\n",
       "      <td>2</td>\n",
       "      <td>0</td>\n",
       "      <td>0</td>\n",
       "      <td>BB</td>\n",
       "      <td>PRT</td>\n",
       "      <td>Online TA</td>\n",
       "      <td>TA/TO</td>\n",
       "      <td>0</td>\n",
       "      <td>0</td>\n",
       "      <td>0</td>\n",
       "      <td>0</td>\n",
       "      <td>No Deposit</td>\n",
       "      <td>240</td>\n",
       "      <td>0</td>\n",
       "      <td>Transient</td>\n",
       "      <td>107.0</td>\n",
       "      <td>0</td>\n",
       "      <td>2</td>\n",
       "      <td>Canceled</td>\n",
       "    </tr>\n",
       "    <tr>\n",
       "      <th>4</th>\n",
       "      <td>Resort Hotel</td>\n",
       "      <td>1</td>\n",
       "      <td>96</td>\n",
       "      <td>2018</td>\n",
       "      <td>July</td>\n",
       "      <td>27</td>\n",
       "      <td>1</td>\n",
       "      <td>2</td>\n",
       "      <td>8</td>\n",
       "      <td>2</td>\n",
       "      <td>0</td>\n",
       "      <td>0</td>\n",
       "      <td>BB</td>\n",
       "      <td>PRT</td>\n",
       "      <td>Direct</td>\n",
       "      <td>Direct</td>\n",
       "      <td>0</td>\n",
       "      <td>0</td>\n",
       "      <td>0</td>\n",
       "      <td>0</td>\n",
       "      <td>No Deposit</td>\n",
       "      <td>No Agent</td>\n",
       "      <td>0</td>\n",
       "      <td>Transient</td>\n",
       "      <td>108.3</td>\n",
       "      <td>0</td>\n",
       "      <td>2</td>\n",
       "      <td>Canceled</td>\n",
       "    </tr>\n",
       "  </tbody>\n",
       "</table>\n",
       "</div>"
      ],
      "text/plain": [
       "          hotel  is_canceled  lead_time  arrival_date_year arrival_date_month  \\\n",
       "0  Resort Hotel            1         85               2018               July   \n",
       "1  Resort Hotel            1         75               2018               July   \n",
       "2  Resort Hotel            1         23               2018               July   \n",
       "3  Resort Hotel            1         60               2018               July   \n",
       "4  Resort Hotel            1         96               2018               July   \n",
       "\n",
       "   arrival_date_week_number  arrival_date_day_of_month  \\\n",
       "0                        27                          1   \n",
       "1                        27                          1   \n",
       "2                        27                          1   \n",
       "3                        27                          1   \n",
       "4                        27                          1   \n",
       "\n",
       "   stays_in_weekend_nights  stays_in_week_nights  adults  children  babies  \\\n",
       "0                        0                     3       2         0       0   \n",
       "1                        0                     3       2         0       0   \n",
       "2                        0                     4       2         0       0   \n",
       "3                        2                     5       2         0       0   \n",
       "4                        2                     8       2         0       0   \n",
       "\n",
       "  meal country market_segment distribution_channel  is_repeated_guest  \\\n",
       "0   BB     PRT      Online TA                TA/TO                  0   \n",
       "1   HB     PRT  Offline TA/TO                TA/TO                  0   \n",
       "2   BB     PRT      Online TA                TA/TO                  0   \n",
       "3   BB     PRT      Online TA                TA/TO                  0   \n",
       "4   BB     PRT         Direct               Direct                  0   \n",
       "\n",
       "   previous_cancellations  previous_bookings_not_canceled  booking_changes  \\\n",
       "0                       0                               0                0   \n",
       "1                       0                               0                0   \n",
       "2                       0                               0                0   \n",
       "3                       0                               0                0   \n",
       "4                       0                               0                0   \n",
       "\n",
       "  deposit_type     agent  days_in_waiting_list customer_type    adr  \\\n",
       "0   No Deposit       240                     0     Transient   82.0   \n",
       "1   No Deposit        15                     0     Transient  105.5   \n",
       "2   No Deposit       240                     0     Transient  123.0   \n",
       "3   No Deposit       240                     0     Transient  107.0   \n",
       "4   No Deposit  No Agent                     0     Transient  108.3   \n",
       "\n",
       "   required_car_parking_spaces  total_of_special_requests reservation_status  \n",
       "0                            0                          1           Canceled  \n",
       "1                            0                          0           Canceled  \n",
       "2                            0                          0           Canceled  \n",
       "3                            0                          2           Canceled  \n",
       "4                            0                          2           Canceled  "
      ]
     },
     "execution_count": 2,
     "metadata": {},
     "output_type": "execute_result"
    }
   ],
   "source": [
    "# Load the dataset\n",
    "data = pd.read_csv('./data/hotel_revenue_edited.csv')\n",
    "print(data.shape)\n",
    "data.head()"
   ]
  },
  {
   "cell_type": "code",
   "execution_count": null,
   "id": "cf3f9bde",
   "metadata": {},
   "outputs": [],
   "source": []
  },
  {
   "cell_type": "markdown",
   "id": "a5022414",
   "metadata": {},
   "source": [
    "### 1. Which hotel did made more revenue?"
   ]
  },
  {
   "cell_type": "code",
   "execution_count": 3,
   "id": "6d0866e5",
   "metadata": {},
   "outputs": [],
   "source": [
    "gh = data.groupby('hotel')\n",
    "data1 = gh['adr'].agg(np.mean).reset_index().rename(columns = {'adr':'avg_adr'}) "
   ]
  },
  {
   "cell_type": "code",
   "execution_count": 4,
   "id": "b8a85a60",
   "metadata": {},
   "outputs": [
    {
     "data": {
      "image/png": "[encoded data removed]",
      "text/plain": [
       "<Figure size 500x300 with 1 Axes>"
      ]
     },
     "metadata": {},
     "output_type": "display_data"
    }
   ],
   "source": [
    "plt.figure(figsize = (5,3))\n",
    "sns.barplot(x = data1['hotel'], y = data1['avg_adr'] )\n",
    "plt.show();"
   ]
  },
  {
   "cell_type": "raw",
   "id": "ebb6cadd",
   "metadata": {},
   "source": [
    "City Hotel mdae slightly more revenue than Resort Hotel."
   ]
  },
  {
   "cell_type": "code",
   "execution_count": null,
   "id": "a4ba050d",
   "metadata": {},
   "outputs": [],
   "source": []
  },
  {
   "cell_type": "markdown",
   "id": "42f7e6c9",
   "metadata": {},
   "source": [
    "### 2. Which months guests were high?"
   ]
  },
  {
   "cell_type": "code",
   "execution_count": 5,
   "id": "d2323236",
   "metadata": {},
   "outputs": [
    {
     "data": {
      "text/plain": [
       "Text(0, 0.5, 'Number of guests')"
      ]
     },
     "execution_count": 5,
     "metadata": {},
     "output_type": "execute_result"
    },
    {
     "data": {
      "image/png": "[encoded data removed]",
      "text/plain": [
       "<Figure size 1000x500 with 1 Axes>"
      ]
     },
     "metadata": {},
     "output_type": "display_data"
    }
   ],
   "source": [
    "plt.figure(figsize=(10,5))\n",
    "sns.countplot(data=data,x='arrival_date_month',hue='arrival_date_year')\n",
    "plt.title('Number of guests in each month')\n",
    "plt.xlabel('Months')\n",
    "plt.ylabel('Number of guests')"
   ]
  },
  {
   "cell_type": "raw",
   "id": "02298c6e",
   "metadata": {},
   "source": [
    "In 2018 the most number of guests come at September\n",
    "In 2019 the most number of guests come at October\n",
    "In 2020 the most number of guests come at May"
   ]
  },
  {
   "cell_type": "raw",
   "id": "c1441b1c",
   "metadata": {},
   "source": []
  },
  {
   "cell_type": "markdown",
   "id": "f566a363",
   "metadata": {},
   "source": [
    "### 3. Which countries did most the guests come from?"
   ]
  },
  {
   "cell_type": "code",
   "execution_count": 6,
   "id": "2e4d6983",
   "metadata": {},
   "outputs": [],
   "source": [
    "data2 = pd.read_csv('./data/country.csv')\n",
    "data3 = pd.merge(data, data2, on='country')"
   ]
  },
  {
   "cell_type": "code",
   "execution_count": 7,
   "id": "06bdc095",
   "metadata": {},
   "outputs": [],
   "source": [
    "data_country = data3[data3['is_canceled']==0][['country','country name']].value_counts().reset_index()"
   ]
  },
  {
   "cell_type": "code",
   "execution_count": 8,
   "id": "8c2aab4f",
   "metadata": {},
   "outputs": [
    {
     "data": {
      "text/html": [
       "<div>\n",
       "<style scoped>\n",
       "    .dataframe tbody tr th:only-of-type {\n",
       "        vertical-align: middle;\n",
       "    }\n",
       "\n",
       "    .dataframe tbody tr th {\n",
       "        vertical-align: top;\n",
       "    }\n",
       "\n",
       "    .dataframe thead th {\n",
       "        text-align: right;\n",
       "    }\n",
       "</style>\n",
       "<table border=\"1\" class=\"dataframe\">\n",
       "  <thead>\n",
       "    <tr style=\"text-align: right;\">\n",
       "      <th></th>\n",
       "      <th>Country</th>\n",
       "      <th>Country Name</th>\n",
       "      <th>Number of Guests</th>\n",
       "    </tr>\n",
       "  </thead>\n",
       "  <tbody>\n",
       "    <tr>\n",
       "      <th>0</th>\n",
       "      <td>PRT</td>\n",
       "      <td>Portugal</td>\n",
       "      <td>27196</td>\n",
       "    </tr>\n",
       "    <tr>\n",
       "      <th>1</th>\n",
       "      <td>GBR</td>\n",
       "      <td>United Kingdom</td>\n",
       "      <td>10896</td>\n",
       "    </tr>\n",
       "    <tr>\n",
       "      <th>2</th>\n",
       "      <td>FRA</td>\n",
       "      <td>France</td>\n",
       "      <td>9775</td>\n",
       "    </tr>\n",
       "    <tr>\n",
       "      <th>3</th>\n",
       "      <td>ESP</td>\n",
       "      <td>Spain</td>\n",
       "      <td>8185</td>\n",
       "    </tr>\n",
       "    <tr>\n",
       "      <th>4</th>\n",
       "      <td>DEU</td>\n",
       "      <td>Germany</td>\n",
       "      <td>6579</td>\n",
       "    </tr>\n",
       "    <tr>\n",
       "      <th>...</th>\n",
       "      <td>...</td>\n",
       "      <td>...</td>\n",
       "      <td>...</td>\n",
       "    </tr>\n",
       "    <tr>\n",
       "      <th>159</th>\n",
       "      <td>KIR</td>\n",
       "      <td>Kiribati</td>\n",
       "      <td>1</td>\n",
       "    </tr>\n",
       "    <tr>\n",
       "      <th>160</th>\n",
       "      <td>FRO</td>\n",
       "      <td>Faroe Islands</td>\n",
       "      <td>1</td>\n",
       "    </tr>\n",
       "    <tr>\n",
       "      <th>161</th>\n",
       "      <td>NAM</td>\n",
       "      <td>Namibia</td>\n",
       "      <td>1</td>\n",
       "    </tr>\n",
       "    <tr>\n",
       "      <th>162</th>\n",
       "      <td>SLE</td>\n",
       "      <td>Sierra Leone</td>\n",
       "      <td>1</td>\n",
       "    </tr>\n",
       "    <tr>\n",
       "      <th>163</th>\n",
       "      <td>NCL</td>\n",
       "      <td>New Caledonia</td>\n",
       "      <td>1</td>\n",
       "    </tr>\n",
       "  </tbody>\n",
       "</table>\n",
       "<p>164 rows × 3 columns</p>\n",
       "</div>"
      ],
      "text/plain": [
       "    Country    Country Name  Number of Guests\n",
       "0       PRT        Portugal             27196\n",
       "1       GBR  United Kingdom             10896\n",
       "2       FRA          France              9775\n",
       "3       ESP           Spain              8185\n",
       "4       DEU         Germany              6579\n",
       "..      ...             ...               ...\n",
       "159     KIR        Kiribati                 1\n",
       "160     FRO   Faroe Islands                 1\n",
       "161     NAM         Namibia                 1\n",
       "162     SLE    Sierra Leone                 1\n",
       "163     NCL   New Caledonia                 1\n",
       "\n",
       "[164 rows x 3 columns]"
      ]
     },
     "execution_count": 8,
     "metadata": {},
     "output_type": "execute_result"
    }
   ],
   "source": [
    "data_country.columns = ['Country', 'Country Name', 'Number of Guests']\n",
    "data_country"
   ]
  },
  {
   "cell_type": "raw",
   "id": "5864b40c",
   "metadata": {},
   "source": [
    "Top 5 countries with the most visitors : Portugal, United Kingdom, France, Spain and Germany."
   ]
  },
  {
   "cell_type": "code",
   "execution_count": null,
   "id": "d6fe33ca",
   "metadata": {},
   "outputs": [],
   "source": []
  },
  {
   "cell_type": "markdown",
   "id": "9afcfe72",
   "metadata": {},
   "source": [
    "### 4. Which was the best market segment?"
   ]
  },
  {
   "cell_type": "code",
   "execution_count": 9,
   "id": "fd8f5a8b",
   "metadata": {},
   "outputs": [
    {
     "data": {
      "image/png": "[encoded data removed]",
      "text/plain": [
       "<Figure size 1000x300 with 1 Axes>"
      ]
     },
     "metadata": {},
     "output_type": "display_data"
    }
   ],
   "source": [
    "plt.figure(figsize=(10,3))\n",
    "sns.barplot(x=data[data['is_canceled']==0].groupby('market_segment')['stays_in_weekend_nights'].count().index,\n",
    "            y=data[data['is_canceled']==0].groupby('market_segment')['stays_in_weekend_nights'].count());"
   ]
  },
  {
   "cell_type": "markdown",
   "id": "65df29bf",
   "metadata": {},
   "source": [
    "The Online TA(Travel Agents) are the best market segment of hotel booking."
   ]
  },
  {
   "cell_type": "code",
   "execution_count": null,
   "id": "e68310a7",
   "metadata": {},
   "outputs": [],
   "source": []
  },
  {
   "cell_type": "markdown",
   "id": "7958b0b5",
   "metadata": {},
   "source": [
    "### 5. Which was the most common channel for hotel booking?"
   ]
  },
  {
   "cell_type": "code",
   "execution_count": 10,
   "id": "18553000",
   "metadata": {},
   "outputs": [],
   "source": [
    "dc = data.groupby(['distribution_channel', 'hotel'])\n",
    "d1 = pd.DataFrame(round((dc['adr']).agg(np.mean),2)).reset_index().rename(columns = {'adr' :'avg_adr'})"
   ]
  },
  {
   "cell_type": "code",
   "execution_count": 11,
   "id": "972e67f2",
   "metadata": {},
   "outputs": [
    {
     "data": {
      "image/png": "[encoded data removed]",
      "text/plain": [
       "<Figure size 800x300 with 1 Axes>"
      ]
     },
     "metadata": {},
     "output_type": "display_data"
    }
   ],
   "source": [
    "plt.figure(figsize=(8,3))\n",
    "sns.barplot(x = d1['distribution_channel'], y = d1['avg_adr'], hue = d1['hotel'])\n",
    "plt.ylim(40,140)\n",
    "plt.show();"
   ]
  },
  {
   "cell_type": "raw",
   "id": "4814916d",
   "metadata": {},
   "source": [
    "GDS channel brought higher revenue generating deals for City Hotel, in contrast Resort Hotel had more revenue generating deals by direct and TA/TO channel."
   ]
  },
  {
   "cell_type": "code",
   "execution_count": null,
   "id": "e1585d72",
   "metadata": {},
   "outputs": [],
   "source": []
  }
 ],
 "metadata": {
  "kernelspec": {
   "display_name": "Python 3 (ipykernel)",
   "language": "python",
   "name": "python3"
  },
  "language_info": {
   "codemirror_mode": {
    "name": "ipython",
    "version": 3
   },
   "file_extension": ".py",
   "mimetype": "text/x-python",
   "name": "python",
   "nbconvert_exporter": "python",
   "pygments_lexer": "ipython3",
   "version": "3.9.16"
  }
 },
 "nbformat": 4,
 "nbformat_minor": 5
}
