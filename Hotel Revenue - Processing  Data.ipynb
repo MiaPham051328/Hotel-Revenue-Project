{
 "cells": [
  {
   "cell_type": "markdown",
   "id": "8f82f02f",
   "metadata": {},
   "source": [
    "# Import Library"
   ]
  },
  {
   "cell_type": "code",
   "execution_count": 1,
   "id": "4da9da4b",
   "metadata": {},
   "outputs": [],
   "source": [
    "import pandas as pd\n",
    "import numpy as np\n",
    "import matplotlib.pyplot as plt\n",
    "import seaborn as sns"
   ]
  },
  {
   "cell_type": "markdown",
   "id": "4ddc566c",
   "metadata": {},
   "source": [
    "# Load the Data (don't run this part again)"
   ]
  },
  {
   "cell_type": "code",
   "execution_count": null,
   "id": "c198c275",
   "metadata": {},
   "outputs": [],
   "source": [
    "data1 = pd.read_excel('./hotel_revenue_historical_full.xlsx', sheet_name='2018')\n",
    "data1.head()"
   ]
  },
  {
   "cell_type": "code",
   "execution_count": null,
   "id": "11650909",
   "metadata": {},
   "outputs": [],
   "source": [
    "data2 = pd.read_excel('./hotel_revenue_historical_full.xlsx', sheet_name='2019')\n",
    "data2.head()"
   ]
  },
  {
   "cell_type": "code",
   "execution_count": null,
   "id": "74a004d4",
   "metadata": {},
   "outputs": [],
   "source": [
    "data3 = pd.read_excel('./hotel_revenue_historical_full.xlsx', sheet_name='2020')\n",
    "data3.head()"
   ]
  },
  {
   "cell_type": "code",
   "execution_count": null,
   "id": "fb2c1716",
   "metadata": {},
   "outputs": [],
   "source": [
    "data4 = pd.read_excel('./hotel_revenue_historical_full.xlsx', sheet_name='meal_cost')\n",
    "data4.head()"
   ]
  },
  {
   "cell_type": "code",
   "execution_count": null,
   "id": "2de96e55",
   "metadata": {},
   "outputs": [],
   "source": [
    "data5 = pd.read_excel('./hotel_revenue_historical_full.xlsx', sheet_name='market_segment')\n",
    "data5.head(8)"
   ]
  },
  {
   "cell_type": "code",
   "execution_count": null,
   "id": "2481aaf7",
   "metadata": {},
   "outputs": [],
   "source": [
    "data6 = pd.read_excel('./country.xlsx')\n",
    "data6.head()"
   ]
  },
  {
   "cell_type": "code",
   "execution_count": null,
   "id": "c3745178",
   "metadata": {},
   "outputs": [],
   "source": [
    "data1.to_csv('HRH2018.csv', index=False)"
   ]
  },
  {
   "cell_type": "code",
   "execution_count": null,
   "id": "1d93c049",
   "metadata": {},
   "outputs": [],
   "source": [
    "data2.to_csv('HRH2019.csv', index=False)"
   ]
  },
  {
   "cell_type": "code",
   "execution_count": null,
   "id": "26c2677c",
   "metadata": {},
   "outputs": [],
   "source": [
    "data3.to_csv('HRH2020.csv', index=False)"
   ]
  },
  {
   "cell_type": "code",
   "execution_count": null,
   "id": "eff444c5",
   "metadata": {},
   "outputs": [],
   "source": [
    "data4.to_csv('meal_cost.csv', index=False)"
   ]
  },
  {
   "cell_type": "code",
   "execution_count": null,
   "id": "06725fb9",
   "metadata": {},
   "outputs": [],
   "source": [
    "data5.to_csv('market_segment.csv', index=False)"
   ]
  },
  {
   "cell_type": "code",
   "execution_count": null,
   "id": "8faa55c4",
   "metadata": {},
   "outputs": [],
   "source": [
    "data6.to_csv('country.csv', index=False)"
   ]
  },
  {
   "cell_type": "code",
   "execution_count": null,
   "id": "483396dc",
   "metadata": {},
   "outputs": [],
   "source": [
    "d1 = pd.read_csv('./data/HRH2018.csv')\n",
    "#d1.info()"
   ]
  },
  {
   "cell_type": "code",
   "execution_count": null,
   "id": "b37db643",
   "metadata": {},
   "outputs": [],
   "source": [
    "d2 = pd.read_csv('./data/HRH2019.csv')\n",
    "#d2.info()"
   ]
  },
  {
   "cell_type": "code",
   "execution_count": null,
   "id": "cfc82436",
   "metadata": {},
   "outputs": [],
   "source": [
    "d3 = pd.read_csv('./data/HRH2020.csv')\n",
    "#d3.info()"
   ]
  },
  {
   "cell_type": "code",
   "execution_count": null,
   "id": "557f2ec8",
   "metadata": {},
   "outputs": [],
   "source": [
    "d = [d1, d2, d3]\n",
    "res = pd.concat(d)"
   ]
  },
  {
   "cell_type": "code",
   "execution_count": null,
   "id": "d4bb5494",
   "metadata": {},
   "outputs": [],
   "source": [
    "print(res.shape)"
   ]
  },
  {
   "cell_type": "code",
   "execution_count": null,
   "id": "165f20c8",
   "metadata": {},
   "outputs": [],
   "source": [
    "res.to_csv('./data/hotel_revenue.csv', index=False)"
   ]
  },
  {
   "cell_type": "code",
   "execution_count": null,
   "id": "7818d20a",
   "metadata": {},
   "outputs": [],
   "source": []
  },
  {
   "cell_type": "markdown",
   "id": "e4ecffc0",
   "metadata": {},
   "source": [
    "# Data Processing"
   ]
  },
  {
   "cell_type": "code",
   "execution_count": 2,
   "id": "8e22a0d0",
   "metadata": {},
   "outputs": [
    {
     "data": {
      "text/html": [
       "<div>\n",
       "<style scoped>\n",
       "    .dataframe tbody tr th:only-of-type {\n",
       "        vertical-align: middle;\n",
       "    }\n",
       "\n",
       "    .dataframe tbody tr th {\n",
       "        vertical-align: top;\n",
       "    }\n",
       "\n",
       "    .dataframe thead th {\n",
       "        text-align: right;\n",
       "    }\n",
       "</style>\n",
       "<table border=\"1\" class=\"dataframe\">\n",
       "  <thead>\n",
       "    <tr style=\"text-align: right;\">\n",
       "      <th></th>\n",
       "      <th>hotel</th>\n",
       "      <th>is_canceled</th>\n",
       "      <th>lead_time</th>\n",
       "      <th>arrival_date_year</th>\n",
       "      <th>arrival_date_month</th>\n",
       "      <th>arrival_date_week_number</th>\n",
       "      <th>arrival_date_day_of_month</th>\n",
       "      <th>stays_in_weekend_nights</th>\n",
       "      <th>stays_in_week_nights</th>\n",
       "      <th>adults</th>\n",
       "      <th>children</th>\n",
       "      <th>babies</th>\n",
       "      <th>meal</th>\n",
       "      <th>country</th>\n",
       "      <th>market_segment</th>\n",
       "      <th>distribution_channel</th>\n",
       "      <th>is_repeated_guest</th>\n",
       "      <th>previous_cancellations</th>\n",
       "      <th>previous_bookings_not_canceled</th>\n",
       "      <th>reserved_room_type</th>\n",
       "      <th>assigned_room_type</th>\n",
       "      <th>booking_changes</th>\n",
       "      <th>deposit_type</th>\n",
       "      <th>agent</th>\n",
       "      <th>company</th>\n",
       "      <th>days_in_waiting_list</th>\n",
       "      <th>customer_type</th>\n",
       "      <th>adr</th>\n",
       "      <th>required_car_parking_spaces</th>\n",
       "      <th>total_of_special_requests</th>\n",
       "      <th>reservation_status</th>\n",
       "      <th>reservation_status_date</th>\n",
       "    </tr>\n",
       "  </thead>\n",
       "  <tbody>\n",
       "    <tr>\n",
       "      <th>0</th>\n",
       "      <td>Resort Hotel</td>\n",
       "      <td>1</td>\n",
       "      <td>85</td>\n",
       "      <td>2018</td>\n",
       "      <td>July</td>\n",
       "      <td>27</td>\n",
       "      <td>1</td>\n",
       "      <td>0</td>\n",
       "      <td>3</td>\n",
       "      <td>2</td>\n",
       "      <td>0.0</td>\n",
       "      <td>0</td>\n",
       "      <td>BB</td>\n",
       "      <td>PRT</td>\n",
       "      <td>Online TA</td>\n",
       "      <td>TA/TO</td>\n",
       "      <td>0</td>\n",
       "      <td>0</td>\n",
       "      <td>0</td>\n",
       "      <td>A</td>\n",
       "      <td>A</td>\n",
       "      <td>0</td>\n",
       "      <td>No Deposit</td>\n",
       "      <td>240.0</td>\n",
       "      <td>NaN</td>\n",
       "      <td>0</td>\n",
       "      <td>Transient</td>\n",
       "      <td>82.0</td>\n",
       "      <td>0</td>\n",
       "      <td>1</td>\n",
       "      <td>Canceled</td>\n",
       "      <td>2018-05-06</td>\n",
       "    </tr>\n",
       "    <tr>\n",
       "      <th>1</th>\n",
       "      <td>Resort Hotel</td>\n",
       "      <td>1</td>\n",
       "      <td>75</td>\n",
       "      <td>2018</td>\n",
       "      <td>July</td>\n",
       "      <td>27</td>\n",
       "      <td>1</td>\n",
       "      <td>0</td>\n",
       "      <td>3</td>\n",
       "      <td>2</td>\n",
       "      <td>0.0</td>\n",
       "      <td>0</td>\n",
       "      <td>HB</td>\n",
       "      <td>PRT</td>\n",
       "      <td>Offline TA/TO</td>\n",
       "      <td>TA/TO</td>\n",
       "      <td>0</td>\n",
       "      <td>0</td>\n",
       "      <td>0</td>\n",
       "      <td>D</td>\n",
       "      <td>D</td>\n",
       "      <td>0</td>\n",
       "      <td>No Deposit</td>\n",
       "      <td>15.0</td>\n",
       "      <td>NaN</td>\n",
       "      <td>0</td>\n",
       "      <td>Transient</td>\n",
       "      <td>105.5</td>\n",
       "      <td>0</td>\n",
       "      <td>0</td>\n",
       "      <td>Canceled</td>\n",
       "      <td>2018-04-22</td>\n",
       "    </tr>\n",
       "    <tr>\n",
       "      <th>2</th>\n",
       "      <td>Resort Hotel</td>\n",
       "      <td>1</td>\n",
       "      <td>23</td>\n",
       "      <td>2018</td>\n",
       "      <td>July</td>\n",
       "      <td>27</td>\n",
       "      <td>1</td>\n",
       "      <td>0</td>\n",
       "      <td>4</td>\n",
       "      <td>2</td>\n",
       "      <td>0.0</td>\n",
       "      <td>0</td>\n",
       "      <td>BB</td>\n",
       "      <td>PRT</td>\n",
       "      <td>Online TA</td>\n",
       "      <td>TA/TO</td>\n",
       "      <td>0</td>\n",
       "      <td>0</td>\n",
       "      <td>0</td>\n",
       "      <td>E</td>\n",
       "      <td>E</td>\n",
       "      <td>0</td>\n",
       "      <td>No Deposit</td>\n",
       "      <td>240.0</td>\n",
       "      <td>NaN</td>\n",
       "      <td>0</td>\n",
       "      <td>Transient</td>\n",
       "      <td>123.0</td>\n",
       "      <td>0</td>\n",
       "      <td>0</td>\n",
       "      <td>Canceled</td>\n",
       "      <td>2018-06-23</td>\n",
       "    </tr>\n",
       "    <tr>\n",
       "      <th>3</th>\n",
       "      <td>Resort Hotel</td>\n",
       "      <td>1</td>\n",
       "      <td>60</td>\n",
       "      <td>2018</td>\n",
       "      <td>July</td>\n",
       "      <td>27</td>\n",
       "      <td>1</td>\n",
       "      <td>2</td>\n",
       "      <td>5</td>\n",
       "      <td>2</td>\n",
       "      <td>0.0</td>\n",
       "      <td>0</td>\n",
       "      <td>BB</td>\n",
       "      <td>PRT</td>\n",
       "      <td>Online TA</td>\n",
       "      <td>TA/TO</td>\n",
       "      <td>0</td>\n",
       "      <td>0</td>\n",
       "      <td>0</td>\n",
       "      <td>E</td>\n",
       "      <td>E</td>\n",
       "      <td>0</td>\n",
       "      <td>No Deposit</td>\n",
       "      <td>240.0</td>\n",
       "      <td>NaN</td>\n",
       "      <td>0</td>\n",
       "      <td>Transient</td>\n",
       "      <td>107.0</td>\n",
       "      <td>0</td>\n",
       "      <td>2</td>\n",
       "      <td>Canceled</td>\n",
       "      <td>2018-05-11</td>\n",
       "    </tr>\n",
       "    <tr>\n",
       "      <th>4</th>\n",
       "      <td>Resort Hotel</td>\n",
       "      <td>1</td>\n",
       "      <td>96</td>\n",
       "      <td>2018</td>\n",
       "      <td>July</td>\n",
       "      <td>27</td>\n",
       "      <td>1</td>\n",
       "      <td>2</td>\n",
       "      <td>8</td>\n",
       "      <td>2</td>\n",
       "      <td>0.0</td>\n",
       "      <td>0</td>\n",
       "      <td>BB</td>\n",
       "      <td>PRT</td>\n",
       "      <td>Direct</td>\n",
       "      <td>Direct</td>\n",
       "      <td>0</td>\n",
       "      <td>0</td>\n",
       "      <td>0</td>\n",
       "      <td>E</td>\n",
       "      <td>E</td>\n",
       "      <td>0</td>\n",
       "      <td>No Deposit</td>\n",
       "      <td>NaN</td>\n",
       "      <td>NaN</td>\n",
       "      <td>0</td>\n",
       "      <td>Transient</td>\n",
       "      <td>108.3</td>\n",
       "      <td>0</td>\n",
       "      <td>2</td>\n",
       "      <td>Canceled</td>\n",
       "      <td>2018-05-29</td>\n",
       "    </tr>\n",
       "  </tbody>\n",
       "</table>\n",
       "</div>"
      ],
      "text/plain": [
       "          hotel  is_canceled  lead_time  arrival_date_year arrival_date_month  \\\n",
       "0  Resort Hotel            1         85               2018               July   \n",
       "1  Resort Hotel            1         75               2018               July   \n",
       "2  Resort Hotel            1         23               2018               July   \n",
       "3  Resort Hotel            1         60               2018               July   \n",
       "4  Resort Hotel            1         96               2018               July   \n",
       "\n",
       "   arrival_date_week_number  arrival_date_day_of_month  \\\n",
       "0                        27                          1   \n",
       "1                        27                          1   \n",
       "2                        27                          1   \n",
       "3                        27                          1   \n",
       "4                        27                          1   \n",
       "\n",
       "   stays_in_weekend_nights  stays_in_week_nights  adults  children  babies  \\\n",
       "0                        0                     3       2       0.0       0   \n",
       "1                        0                     3       2       0.0       0   \n",
       "2                        0                     4       2       0.0       0   \n",
       "3                        2                     5       2       0.0       0   \n",
       "4                        2                     8       2       0.0       0   \n",
       "\n",
       "  meal country market_segment distribution_channel  is_repeated_guest  \\\n",
       "0   BB     PRT      Online TA                TA/TO                  0   \n",
       "1   HB     PRT  Offline TA/TO                TA/TO                  0   \n",
       "2   BB     PRT      Online TA                TA/TO                  0   \n",
       "3   BB     PRT      Online TA                TA/TO                  0   \n",
       "4   BB     PRT         Direct               Direct                  0   \n",
       "\n",
       "   previous_cancellations  previous_bookings_not_canceled reserved_room_type  \\\n",
       "0                       0                               0                  A   \n",
       "1                       0                               0                  D   \n",
       "2                       0                               0                  E   \n",
       "3                       0                               0                  E   \n",
       "4                       0                               0                  E   \n",
       "\n",
       "  assigned_room_type  booking_changes deposit_type  agent  company  \\\n",
       "0                  A                0   No Deposit  240.0      NaN   \n",
       "1                  D                0   No Deposit   15.0      NaN   \n",
       "2                  E                0   No Deposit  240.0      NaN   \n",
       "3                  E                0   No Deposit  240.0      NaN   \n",
       "4                  E                0   No Deposit    NaN      NaN   \n",
       "\n",
       "   days_in_waiting_list customer_type    adr  required_car_parking_spaces  \\\n",
       "0                     0     Transient   82.0                            0   \n",
       "1                     0     Transient  105.5                            0   \n",
       "2                     0     Transient  123.0                            0   \n",
       "3                     0     Transient  107.0                            0   \n",
       "4                     0     Transient  108.3                            0   \n",
       "\n",
       "   total_of_special_requests reservation_status reservation_status_date  \n",
       "0                          1           Canceled              2018-05-06  \n",
       "1                          0           Canceled              2018-04-22  \n",
       "2                          0           Canceled              2018-06-23  \n",
       "3                          2           Canceled              2018-05-11  \n",
       "4                          2           Canceled              2018-05-29  "
      ]
     },
     "execution_count": 2,
     "metadata": {},
     "output_type": "execute_result"
    }
   ],
   "source": [
    "data = pd.read_csv('./data/hotel_revenue.csv')\n",
    "pd.set_option('display.max_column', None)\n",
    "data.head()"
   ]
  },
  {
   "cell_type": "code",
   "execution_count": null,
   "id": "a74ffa24",
   "metadata": {},
   "outputs": [],
   "source": []
  },
  {
   "cell_type": "markdown",
   "id": "b8260c46",
   "metadata": {},
   "source": [
    "## Check and convert data types"
   ]
  },
  {
   "cell_type": "code",
   "execution_count": 3,
   "id": "1b9cc036",
   "metadata": {},
   "outputs": [
    {
     "name": "stdout",
     "output_type": "stream",
     "text": [
      "<class 'pandas.core.frame.DataFrame'>\n",
      "RangeIndex: 141947 entries, 0 to 141946\n",
      "Data columns (total 32 columns):\n",
      " #   Column                          Non-Null Count   Dtype  \n",
      "---  ------                          --------------   -----  \n",
      " 0   hotel                           141947 non-null  object \n",
      " 1   is_canceled                     141947 non-null  int64  \n",
      " 2   lead_time                       141947 non-null  int64  \n",
      " 3   arrival_date_year               141947 non-null  int64  \n",
      " 4   arrival_date_month              141947 non-null  object \n",
      " 5   arrival_date_week_number        141947 non-null  int64  \n",
      " 6   arrival_date_day_of_month       141947 non-null  int64  \n",
      " 7   stays_in_weekend_nights         141947 non-null  int64  \n",
      " 8   stays_in_week_nights            141947 non-null  int64  \n",
      " 9   adults                          141947 non-null  int64  \n",
      " 10  children                        141939 non-null  float64\n",
      " 11  babies                          141947 non-null  int64  \n",
      " 12  meal                            141947 non-null  object \n",
      " 13  country                         141322 non-null  object \n",
      " 14  market_segment                  141947 non-null  object \n",
      " 15  distribution_channel            141947 non-null  object \n",
      " 16  is_repeated_guest               141947 non-null  int64  \n",
      " 17  previous_cancellations          141947 non-null  int64  \n",
      " 18  previous_bookings_not_canceled  141947 non-null  int64  \n",
      " 19  reserved_room_type              141947 non-null  object \n",
      " 20  assigned_room_type              141947 non-null  object \n",
      " 21  booking_changes                 141947 non-null  int64  \n",
      " 22  deposit_type                    141947 non-null  object \n",
      " 23  agent                           122392 non-null  float64\n",
      " 24  company                         8125 non-null    float64\n",
      " 25  days_in_waiting_list            141947 non-null  int64  \n",
      " 26  customer_type                   141947 non-null  object \n",
      " 27  adr                             141947 non-null  float64\n",
      " 28  required_car_parking_spaces     141947 non-null  int64  \n",
      " 29  total_of_special_requests       141947 non-null  int64  \n",
      " 30  reservation_status              141947 non-null  object \n",
      " 31  reservation_status_date         141947 non-null  object \n",
      "dtypes: float64(4), int64(16), object(12)\n",
      "memory usage: 34.7+ MB\n"
     ]
    }
   ],
   "source": [
    "data.info()"
   ]
  },
  {
   "cell_type": "markdown",
   "id": "065731ed",
   "metadata": {},
   "source": [
    "Data type of agent and company should be object, since the values represent the ID of the agent that made the booking and the ID of the company respectively.\n",
    "\n",
    "To change the data type from float to object/string, change them into integer first to avoid the decimal-form values. To do so, null values in those columns should be filled with a number, 0.\n",
    "\n",
    "Data type of children also should be integer and the null values in children column means there is no children, we assigned 0 into it as well (8 of null values)."
   ]
  },
  {
   "cell_type": "code",
   "execution_count": 4,
   "id": "88a9697d",
   "metadata": {},
   "outputs": [],
   "source": [
    "# Convert columns to appropriate datatypes\n",
    "data['company'] = data['company'].fillna(0).astype(int)\n",
    "data['company'] = data['company'].astype(str)\n",
    "data.loc[data['company'] == '0', \"company\"] = np.nan\n",
    "\n",
    "data['agent'] = data['agent'].fillna(0).astype(int)\n",
    "data['agent'] = data['agent'].astype(str)\n",
    "data.loc[data['agent'] == '0', \"agent\"] = np.nan\n",
    "\n",
    "data['children'] = data['children'].fillna(0).astype(int)"
   ]
  },
  {
   "cell_type": "code",
   "execution_count": null,
   "id": "6d6c1b89",
   "metadata": {},
   "outputs": [],
   "source": []
  },
  {
   "cell_type": "markdown",
   "id": "45e1f14a",
   "metadata": {},
   "source": [
    "## Handle Missing Values"
   ]
  },
  {
   "cell_type": "code",
   "execution_count": 5,
   "id": "2a895dc2",
   "metadata": {},
   "outputs": [
    {
     "data": {
      "text/plain": [
       "hotel                              0.000000\n",
       "is_canceled                        0.000000\n",
       "lead_time                          0.000000\n",
       "arrival_date_year                  0.000000\n",
       "arrival_date_month                 0.000000\n",
       "arrival_date_week_number           0.000000\n",
       "arrival_date_day_of_month          0.000000\n",
       "stays_in_weekend_nights            0.000000\n",
       "stays_in_week_nights               0.000000\n",
       "adults                             0.000000\n",
       "children                           0.000000\n",
       "babies                             0.000000\n",
       "meal                               0.000000\n",
       "country                            0.440305\n",
       "market_segment                     0.000000\n",
       "distribution_channel               0.000000\n",
       "is_repeated_guest                  0.000000\n",
       "previous_cancellations             0.000000\n",
       "previous_bookings_not_canceled     0.000000\n",
       "reserved_room_type                 0.000000\n",
       "assigned_room_type                 0.000000\n",
       "booking_changes                    0.000000\n",
       "deposit_type                       0.000000\n",
       "agent                             13.776269\n",
       "company                           94.276033\n",
       "days_in_waiting_list               0.000000\n",
       "customer_type                      0.000000\n",
       "adr                                0.000000\n",
       "required_car_parking_spaces        0.000000\n",
       "total_of_special_requests          0.000000\n",
       "reservation_status                 0.000000\n",
       "reservation_status_date            0.000000\n",
       "dtype: float64"
      ]
     },
     "execution_count": 5,
     "metadata": {},
     "output_type": "execute_result"
    }
   ],
   "source": [
    "data.isnull().sum()/len(data)*100"
   ]
  },
  {
   "cell_type": "markdown",
   "id": "d2f88265",
   "metadata": {},
   "source": [
    "Since the missing values of company column is up to 94% --> can drop this column and drop some unrelated columns as well"
   ]
  },
  {
   "cell_type": "code",
   "execution_count": 6,
   "id": "c883da18",
   "metadata": {},
   "outputs": [],
   "source": [
    "data.drop(['company', 'reserved_room_type','assigned_room_type', 'reservation_status_date'], axis=1, inplace=True)"
   ]
  },
  {
   "cell_type": "markdown",
   "id": "90d7d107",
   "metadata": {},
   "source": [
    "The null values in agent column possibly means that the booking wasn't through any agent, then we assigned \"No Agent\" into it as a value."
   ]
  },
  {
   "cell_type": "code",
   "execution_count": 7,
   "id": "30672108",
   "metadata": {},
   "outputs": [],
   "source": [
    "data['agent'] = data['agent'].fillna(\"No Agent\")"
   ]
  },
  {
   "cell_type": "markdown",
   "id": "0417949e",
   "metadata": {},
   "source": [
    "Fill null values in country column with the highest frequency value (mode) (625 of blank values)"
   ]
  },
  {
   "cell_type": "code",
   "execution_count": 8,
   "id": "020eb09b",
   "metadata": {},
   "outputs": [],
   "source": [
    "data['country'] = data['country'].fillna(data['country'].mode()[0])"
   ]
  },
  {
   "cell_type": "code",
   "execution_count": 9,
   "id": "7ca6fc54",
   "metadata": {},
   "outputs": [
    {
     "data": {
      "text/plain": [
       "hotel                             0.0\n",
       "is_canceled                       0.0\n",
       "lead_time                         0.0\n",
       "arrival_date_year                 0.0\n",
       "arrival_date_month                0.0\n",
       "arrival_date_week_number          0.0\n",
       "arrival_date_day_of_month         0.0\n",
       "stays_in_weekend_nights           0.0\n",
       "stays_in_week_nights              0.0\n",
       "adults                            0.0\n",
       "children                          0.0\n",
       "babies                            0.0\n",
       "meal                              0.0\n",
       "country                           0.0\n",
       "market_segment                    0.0\n",
       "distribution_channel              0.0\n",
       "is_repeated_guest                 0.0\n",
       "previous_cancellations            0.0\n",
       "previous_bookings_not_canceled    0.0\n",
       "booking_changes                   0.0\n",
       "deposit_type                      0.0\n",
       "agent                             0.0\n",
       "days_in_waiting_list              0.0\n",
       "customer_type                     0.0\n",
       "adr                               0.0\n",
       "required_car_parking_spaces       0.0\n",
       "total_of_special_requests         0.0\n",
       "reservation_status                0.0\n",
       "dtype: float64"
      ]
     },
     "execution_count": 9,
     "metadata": {},
     "output_type": "execute_result"
    }
   ],
   "source": [
    "data.isnull().sum()/len(data) * 100"
   ]
  },
  {
   "cell_type": "code",
   "execution_count": null,
   "id": "01135d18",
   "metadata": {},
   "outputs": [],
   "source": []
  },
  {
   "cell_type": "markdown",
   "id": "c2a56f7b",
   "metadata": {},
   "source": [
    "## Handle Invalid Values"
   ]
  },
  {
   "cell_type": "code",
   "execution_count": 10,
   "id": "30653fcc",
   "metadata": {},
   "outputs": [],
   "source": [
    "# get the categorical and numeric column names\n",
    "num_cols = data.select_dtypes(include = 'number').columns\n",
    "cat_cols = data.select_dtypes(include = 'object').columns"
   ]
  },
  {
   "cell_type": "code",
   "execution_count": 11,
   "id": "6e1e860c",
   "metadata": {},
   "outputs": [
    {
     "data": {
      "text/html": [
       "<div>\n",
       "<style scoped>\n",
       "    .dataframe tbody tr th:only-of-type {\n",
       "        vertical-align: middle;\n",
       "    }\n",
       "\n",
       "    .dataframe tbody tr th {\n",
       "        vertical-align: top;\n",
       "    }\n",
       "\n",
       "    .dataframe thead th {\n",
       "        text-align: right;\n",
       "    }\n",
       "</style>\n",
       "<table border=\"1\" class=\"dataframe\">\n",
       "  <thead>\n",
       "    <tr style=\"text-align: right;\">\n",
       "      <th></th>\n",
       "      <th>count</th>\n",
       "      <th>unique</th>\n",
       "      <th>top</th>\n",
       "      <th>freq</th>\n",
       "    </tr>\n",
       "  </thead>\n",
       "  <tbody>\n",
       "    <tr>\n",
       "      <th>hotel</th>\n",
       "      <td>141947</td>\n",
       "      <td>2</td>\n",
       "      <td>City Hotel</td>\n",
       "      <td>93103</td>\n",
       "    </tr>\n",
       "    <tr>\n",
       "      <th>arrival_date_month</th>\n",
       "      <td>141947</td>\n",
       "      <td>12</td>\n",
       "      <td>August</td>\n",
       "      <td>17772</td>\n",
       "    </tr>\n",
       "    <tr>\n",
       "      <th>meal</th>\n",
       "      <td>141947</td>\n",
       "      <td>5</td>\n",
       "      <td>BB</td>\n",
       "      <td>109878</td>\n",
       "    </tr>\n",
       "    <tr>\n",
       "      <th>country</th>\n",
       "      <td>141947</td>\n",
       "      <td>177</td>\n",
       "      <td>PRT</td>\n",
       "      <td>63009</td>\n",
       "    </tr>\n",
       "    <tr>\n",
       "      <th>market_segment</th>\n",
       "      <td>141947</td>\n",
       "      <td>8</td>\n",
       "      <td>Online TA</td>\n",
       "      <td>62840</td>\n",
       "    </tr>\n",
       "    <tr>\n",
       "      <th>distribution_channel</th>\n",
       "      <td>141947</td>\n",
       "      <td>5</td>\n",
       "      <td>TA/TO</td>\n",
       "      <td>116042</td>\n",
       "    </tr>\n",
       "    <tr>\n",
       "      <th>deposit_type</th>\n",
       "      <td>141947</td>\n",
       "      <td>3</td>\n",
       "      <td>No Deposit</td>\n",
       "      <td>123396</td>\n",
       "    </tr>\n",
       "    <tr>\n",
       "      <th>agent</th>\n",
       "      <td>141947</td>\n",
       "      <td>334</td>\n",
       "      <td>9</td>\n",
       "      <td>34292</td>\n",
       "    </tr>\n",
       "    <tr>\n",
       "      <th>customer_type</th>\n",
       "      <td>141947</td>\n",
       "      <td>4</td>\n",
       "      <td>Transient</td>\n",
       "      <td>101474</td>\n",
       "    </tr>\n",
       "    <tr>\n",
       "      <th>reservation_status</th>\n",
       "      <td>141947</td>\n",
       "      <td>3</td>\n",
       "      <td>Check-Out</td>\n",
       "      <td>89198</td>\n",
       "    </tr>\n",
       "  </tbody>\n",
       "</table>\n",
       "</div>"
      ],
      "text/plain": [
       "                       count unique         top    freq\n",
       "hotel                 141947      2  City Hotel   93103\n",
       "arrival_date_month    141947     12      August   17772\n",
       "meal                  141947      5          BB  109878\n",
       "country               141947    177         PRT   63009\n",
       "market_segment        141947      8   Online TA   62840\n",
       "distribution_channel  141947      5       TA/TO  116042\n",
       "deposit_type          141947      3  No Deposit  123396\n",
       "agent                 141947    334           9   34292\n",
       "customer_type         141947      4   Transient  101474\n",
       "reservation_status    141947      3   Check-Out   89198"
      ]
     },
     "execution_count": 11,
     "metadata": {},
     "output_type": "execute_result"
    }
   ],
   "source": [
    "# statictic descriptive categorical columns\n",
    "data[cat_cols].describe().T"
   ]
  },
  {
   "cell_type": "markdown",
   "id": "dd44f27c",
   "metadata": {},
   "source": [
    "1. Replace 'Undefined' values in meal column with highest frequency value 'BB'"
   ]
  },
  {
   "cell_type": "code",
   "execution_count": 12,
   "id": "63abc7da",
   "metadata": {},
   "outputs": [
    {
     "data": {
      "text/plain": [
       "BB           109878\n",
       "HB            18402\n",
       "SC            11067\n",
       "Undefined      1372\n",
       "FB             1228\n",
       "Name: meal, dtype: int64"
      ]
     },
     "execution_count": 12,
     "metadata": {},
     "output_type": "execute_result"
    }
   ],
   "source": [
    "data['meal'].value_counts()"
   ]
  },
  {
   "cell_type": "code",
   "execution_count": 13,
   "id": "e9c19d59",
   "metadata": {},
   "outputs": [],
   "source": [
    "data.loc[data['meal']=='Undefined', 'meal'] = 'BB'"
   ]
  },
  {
   "cell_type": "markdown",
   "id": "82e1136a",
   "metadata": {},
   "source": [
    "2. Replace 'Undefined' values in market_segment with the highest frequency value 'Online TA'"
   ]
  },
  {
   "cell_type": "code",
   "execution_count": 14,
   "id": "6d0cacf2",
   "metadata": {},
   "outputs": [
    {
     "data": {
      "text/plain": [
       "Online TA        62840\n",
       "Offline TA/TO    30379\n",
       "Groups           26115\n",
       "Direct           14973\n",
       "Corporate         6486\n",
       "Complementary      913\n",
       "Aviation           237\n",
       "Undefined            4\n",
       "Name: market_segment, dtype: int64"
      ]
     },
     "execution_count": 14,
     "metadata": {},
     "output_type": "execute_result"
    }
   ],
   "source": [
    "data['market_segment'].value_counts()"
   ]
  },
  {
   "cell_type": "code",
   "execution_count": 15,
   "id": "0e222a8b",
   "metadata": {},
   "outputs": [],
   "source": [
    "data.loc[data['market_segment']=='Undefined', 'market_segment'] = 'Online TA'"
   ]
  },
  {
   "cell_type": "markdown",
   "id": "26195fc7",
   "metadata": {},
   "source": [
    "3. Replace 'Undefined' values in distribution_channel with 'TA/TO'"
   ]
  },
  {
   "cell_type": "code",
   "execution_count": 16,
   "id": "54e412da",
   "metadata": {},
   "outputs": [
    {
     "data": {
      "text/plain": [
       "TA/TO        116042\n",
       "Direct        17534\n",
       "Corporate      8167\n",
       "GDS             194\n",
       "Undefined        10\n",
       "Name: distribution_channel, dtype: int64"
      ]
     },
     "execution_count": 16,
     "metadata": {},
     "output_type": "execute_result"
    }
   ],
   "source": [
    "data['distribution_channel'].value_counts()"
   ]
  },
  {
   "cell_type": "code",
   "execution_count": 17,
   "id": "3614fa33",
   "metadata": {},
   "outputs": [],
   "source": [
    "data.loc[data['distribution_channel'] == 'Undefined', 'distribution_channel'] = 'TA/TO'"
   ]
  },
  {
   "cell_type": "markdown",
   "id": "c6a3020b",
   "metadata": {},
   "source": [
    "4. Replace 'CN' values in country with 'CAN'"
   ]
  },
  {
   "cell_type": "code",
   "execution_count": 18,
   "id": "291cf478",
   "metadata": {},
   "outputs": [
    {
     "data": {
      "text/plain": [
       "PRT    63009\n",
       "GBR    13487\n",
       "FRA    11792\n",
       "ESP    10519\n",
       "DEU     7813\n",
       "       ...  \n",
       "BDI        1\n",
       "VGB        1\n",
       "PLW        1\n",
       "BFA        1\n",
       "AIA        1\n",
       "Name: country, Length: 177, dtype: int64"
      ]
     },
     "execution_count": 18,
     "metadata": {},
     "output_type": "execute_result"
    }
   ],
   "source": [
    "data['country'].value_counts()"
   ]
  },
  {
   "cell_type": "code",
   "execution_count": 19,
   "id": "c98b4590",
   "metadata": {},
   "outputs": [],
   "source": [
    "data.loc[data['country'] == 'CN', 'country'] = 'CAN'"
   ]
  },
  {
   "cell_type": "code",
   "execution_count": 20,
   "id": "a89408d9",
   "metadata": {},
   "outputs": [
    {
     "data": {
      "text/html": [
       "<div>\n",
       "<style scoped>\n",
       "    .dataframe tbody tr th:only-of-type {\n",
       "        vertical-align: middle;\n",
       "    }\n",
       "\n",
       "    .dataframe tbody tr th {\n",
       "        vertical-align: top;\n",
       "    }\n",
       "\n",
       "    .dataframe thead th {\n",
       "        text-align: right;\n",
       "    }\n",
       "</style>\n",
       "<table border=\"1\" class=\"dataframe\">\n",
       "  <thead>\n",
       "    <tr style=\"text-align: right;\">\n",
       "      <th></th>\n",
       "      <th>count</th>\n",
       "      <th>mean</th>\n",
       "      <th>std</th>\n",
       "      <th>min</th>\n",
       "      <th>25%</th>\n",
       "      <th>50%</th>\n",
       "      <th>75%</th>\n",
       "      <th>max</th>\n",
       "    </tr>\n",
       "  </thead>\n",
       "  <tbody>\n",
       "    <tr>\n",
       "      <th>is_canceled</th>\n",
       "      <td>141947.0</td>\n",
       "      <td>0.372245</td>\n",
       "      <td>0.483405</td>\n",
       "      <td>0.00</td>\n",
       "      <td>0.00</td>\n",
       "      <td>0.00</td>\n",
       "      <td>1.0</td>\n",
       "      <td>1.0</td>\n",
       "    </tr>\n",
       "    <tr>\n",
       "      <th>lead_time</th>\n",
       "      <td>141947.0</td>\n",
       "      <td>102.821102</td>\n",
       "      <td>106.478569</td>\n",
       "      <td>0.00</td>\n",
       "      <td>17.00</td>\n",
       "      <td>68.00</td>\n",
       "      <td>158.0</td>\n",
       "      <td>737.0</td>\n",
       "    </tr>\n",
       "    <tr>\n",
       "      <th>arrival_date_year</th>\n",
       "      <td>141947.0</td>\n",
       "      <td>2019.131676</td>\n",
       "      <td>0.651352</td>\n",
       "      <td>2018.00</td>\n",
       "      <td>2019.00</td>\n",
       "      <td>2019.00</td>\n",
       "      <td>2020.0</td>\n",
       "      <td>2020.0</td>\n",
       "    </tr>\n",
       "    <tr>\n",
       "      <th>arrival_date_week_number</th>\n",
       "      <td>141947.0</td>\n",
       "      <td>29.061058</td>\n",
       "      <td>13.604758</td>\n",
       "      <td>1.00</td>\n",
       "      <td>18.00</td>\n",
       "      <td>30.00</td>\n",
       "      <td>40.0</td>\n",
       "      <td>53.0</td>\n",
       "    </tr>\n",
       "    <tr>\n",
       "      <th>arrival_date_day_of_month</th>\n",
       "      <td>141947.0</td>\n",
       "      <td>15.748970</td>\n",
       "      <td>8.737314</td>\n",
       "      <td>1.00</td>\n",
       "      <td>8.00</td>\n",
       "      <td>16.00</td>\n",
       "      <td>23.0</td>\n",
       "      <td>31.0</td>\n",
       "    </tr>\n",
       "    <tr>\n",
       "      <th>stays_in_weekend_nights</th>\n",
       "      <td>141947.0</td>\n",
       "      <td>0.927557</td>\n",
       "      <td>1.000817</td>\n",
       "      <td>0.00</td>\n",
       "      <td>0.00</td>\n",
       "      <td>1.00</td>\n",
       "      <td>2.0</td>\n",
       "      <td>19.0</td>\n",
       "    </tr>\n",
       "    <tr>\n",
       "      <th>stays_in_week_nights</th>\n",
       "      <td>141947.0</td>\n",
       "      <td>2.495509</td>\n",
       "      <td>1.909784</td>\n",
       "      <td>0.00</td>\n",
       "      <td>1.00</td>\n",
       "      <td>2.00</td>\n",
       "      <td>3.0</td>\n",
       "      <td>50.0</td>\n",
       "    </tr>\n",
       "    <tr>\n",
       "      <th>adults</th>\n",
       "      <td>141947.0</td>\n",
       "      <td>1.852551</td>\n",
       "      <td>0.628553</td>\n",
       "      <td>0.00</td>\n",
       "      <td>2.00</td>\n",
       "      <td>2.00</td>\n",
       "      <td>2.0</td>\n",
       "      <td>55.0</td>\n",
       "    </tr>\n",
       "    <tr>\n",
       "      <th>children</th>\n",
       "      <td>141947.0</td>\n",
       "      <td>0.097396</td>\n",
       "      <td>0.388539</td>\n",
       "      <td>0.00</td>\n",
       "      <td>0.00</td>\n",
       "      <td>0.00</td>\n",
       "      <td>0.0</td>\n",
       "      <td>10.0</td>\n",
       "    </tr>\n",
       "    <tr>\n",
       "      <th>babies</th>\n",
       "      <td>141947.0</td>\n",
       "      <td>0.008285</td>\n",
       "      <td>0.100520</td>\n",
       "      <td>0.00</td>\n",
       "      <td>0.00</td>\n",
       "      <td>0.00</td>\n",
       "      <td>0.0</td>\n",
       "      <td>10.0</td>\n",
       "    </tr>\n",
       "    <tr>\n",
       "      <th>is_repeated_guest</th>\n",
       "      <td>141947.0</td>\n",
       "      <td>0.031364</td>\n",
       "      <td>0.174300</td>\n",
       "      <td>0.00</td>\n",
       "      <td>0.00</td>\n",
       "      <td>0.00</td>\n",
       "      <td>0.0</td>\n",
       "      <td>1.0</td>\n",
       "    </tr>\n",
       "    <tr>\n",
       "      <th>previous_cancellations</th>\n",
       "      <td>141947.0</td>\n",
       "      <td>0.125413</td>\n",
       "      <td>1.059631</td>\n",
       "      <td>0.00</td>\n",
       "      <td>0.00</td>\n",
       "      <td>0.00</td>\n",
       "      <td>0.0</td>\n",
       "      <td>26.0</td>\n",
       "    </tr>\n",
       "    <tr>\n",
       "      <th>previous_bookings_not_canceled</th>\n",
       "      <td>141947.0</td>\n",
       "      <td>0.120327</td>\n",
       "      <td>1.381798</td>\n",
       "      <td>0.00</td>\n",
       "      <td>0.00</td>\n",
       "      <td>0.00</td>\n",
       "      <td>0.0</td>\n",
       "      <td>72.0</td>\n",
       "    </tr>\n",
       "    <tr>\n",
       "      <th>booking_changes</th>\n",
       "      <td>141947.0</td>\n",
       "      <td>0.213939</td>\n",
       "      <td>0.636479</td>\n",
       "      <td>0.00</td>\n",
       "      <td>0.00</td>\n",
       "      <td>0.00</td>\n",
       "      <td>0.0</td>\n",
       "      <td>21.0</td>\n",
       "    </tr>\n",
       "    <tr>\n",
       "      <th>days_in_waiting_list</th>\n",
       "      <td>141947.0</td>\n",
       "      <td>2.305565</td>\n",
       "      <td>16.938253</td>\n",
       "      <td>0.00</td>\n",
       "      <td>0.00</td>\n",
       "      <td>0.00</td>\n",
       "      <td>0.0</td>\n",
       "      <td>391.0</td>\n",
       "    </tr>\n",
       "    <tr>\n",
       "      <th>adr</th>\n",
       "      <td>141947.0</td>\n",
       "      <td>99.416916</td>\n",
       "      <td>49.675549</td>\n",
       "      <td>-6.38</td>\n",
       "      <td>65.75</td>\n",
       "      <td>90.95</td>\n",
       "      <td>123.0</td>\n",
       "      <td>5400.0</td>\n",
       "    </tr>\n",
       "    <tr>\n",
       "      <th>required_car_parking_spaces</th>\n",
       "      <td>141947.0</td>\n",
       "      <td>0.062129</td>\n",
       "      <td>0.244205</td>\n",
       "      <td>0.00</td>\n",
       "      <td>0.00</td>\n",
       "      <td>0.00</td>\n",
       "      <td>0.0</td>\n",
       "      <td>8.0</td>\n",
       "    </tr>\n",
       "    <tr>\n",
       "      <th>total_of_special_requests</th>\n",
       "      <td>141947.0</td>\n",
       "      <td>0.549677</td>\n",
       "      <td>0.786541</td>\n",
       "      <td>0.00</td>\n",
       "      <td>0.00</td>\n",
       "      <td>0.00</td>\n",
       "      <td>1.0</td>\n",
       "      <td>5.0</td>\n",
       "    </tr>\n",
       "  </tbody>\n",
       "</table>\n",
       "</div>"
      ],
      "text/plain": [
       "                                   count         mean         std      min  \\\n",
       "is_canceled                     141947.0     0.372245    0.483405     0.00   \n",
       "lead_time                       141947.0   102.821102  106.478569     0.00   \n",
       "arrival_date_year               141947.0  2019.131676    0.651352  2018.00   \n",
       "arrival_date_week_number        141947.0    29.061058   13.604758     1.00   \n",
       "arrival_date_day_of_month       141947.0    15.748970    8.737314     1.00   \n",
       "stays_in_weekend_nights         141947.0     0.927557    1.000817     0.00   \n",
       "stays_in_week_nights            141947.0     2.495509    1.909784     0.00   \n",
       "adults                          141947.0     1.852551    0.628553     0.00   \n",
       "children                        141947.0     0.097396    0.388539     0.00   \n",
       "babies                          141947.0     0.008285    0.100520     0.00   \n",
       "is_repeated_guest               141947.0     0.031364    0.174300     0.00   \n",
       "previous_cancellations          141947.0     0.125413    1.059631     0.00   \n",
       "previous_bookings_not_canceled  141947.0     0.120327    1.381798     0.00   \n",
       "booking_changes                 141947.0     0.213939    0.636479     0.00   \n",
       "days_in_waiting_list            141947.0     2.305565   16.938253     0.00   \n",
       "adr                             141947.0    99.416916   49.675549    -6.38   \n",
       "required_car_parking_spaces     141947.0     0.062129    0.244205     0.00   \n",
       "total_of_special_requests       141947.0     0.549677    0.786541     0.00   \n",
       "\n",
       "                                    25%      50%     75%     max  \n",
       "is_canceled                        0.00     0.00     1.0     1.0  \n",
       "lead_time                         17.00    68.00   158.0   737.0  \n",
       "arrival_date_year               2019.00  2019.00  2020.0  2020.0  \n",
       "arrival_date_week_number          18.00    30.00    40.0    53.0  \n",
       "arrival_date_day_of_month          8.00    16.00    23.0    31.0  \n",
       "stays_in_weekend_nights            0.00     1.00     2.0    19.0  \n",
       "stays_in_week_nights               1.00     2.00     3.0    50.0  \n",
       "adults                             2.00     2.00     2.0    55.0  \n",
       "children                           0.00     0.00     0.0    10.0  \n",
       "babies                             0.00     0.00     0.0    10.0  \n",
       "is_repeated_guest                  0.00     0.00     0.0     1.0  \n",
       "previous_cancellations             0.00     0.00     0.0    26.0  \n",
       "previous_bookings_not_canceled     0.00     0.00     0.0    72.0  \n",
       "booking_changes                    0.00     0.00     0.0    21.0  \n",
       "days_in_waiting_list               0.00     0.00     0.0   391.0  \n",
       "adr                               65.75    90.95   123.0  5400.0  \n",
       "required_car_parking_spaces        0.00     0.00     0.0     8.0  \n",
       "total_of_special_requests          0.00     0.00     1.0     5.0  "
      ]
     },
     "execution_count": 20,
     "metadata": {},
     "output_type": "execute_result"
    }
   ],
   "source": [
    "# statictic descriptive numerical columns\n",
    "data[num_cols].describe().T"
   ]
  },
  {
   "cell_type": "markdown",
   "id": "991721e3",
   "metadata": {},
   "source": [
    "5. Replace 53 in arrival_date_week_number to 52, because there are only 52 weeks in a year."
   ]
  },
  {
   "cell_type": "code",
   "execution_count": 21,
   "id": "ddf28750",
   "metadata": {},
   "outputs": [
    {
     "data": {
      "text/plain": [
       "(2636, 28)"
      ]
     },
     "execution_count": 21,
     "metadata": {},
     "output_type": "execute_result"
    }
   ],
   "source": [
    "data[data['arrival_date_week_number'] == 53].shape"
   ]
  },
  {
   "cell_type": "code",
   "execution_count": 22,
   "id": "25a16a47",
   "metadata": {},
   "outputs": [],
   "source": [
    "data.loc[data['arrival_date_week_number'] == 53.0, \"arrival_date_week_number\"] = 52"
   ]
  },
  {
   "cell_type": "markdown",
   "id": "19a3401d",
   "metadata": {},
   "source": [
    "6. Delete row data consist of negative ADR (average daily rate), because it's not possible that room price is negative"
   ]
  },
  {
   "cell_type": "code",
   "execution_count": 23,
   "id": "8098ce76",
   "metadata": {},
   "outputs": [
    {
     "data": {
      "text/plain": [
       "(1, 28)"
      ]
     },
     "execution_count": 23,
     "metadata": {},
     "output_type": "execute_result"
    }
   ],
   "source": [
    "data[data['adr'] < 0].shape"
   ]
  },
  {
   "cell_type": "code",
   "execution_count": 24,
   "id": "06629877",
   "metadata": {},
   "outputs": [],
   "source": [
    "data.drop(data[data['adr'] < 0].index, inplace=True)"
   ]
  },
  {
   "cell_type": "markdown",
   "id": "ae4c0846",
   "metadata": {},
   "source": [
    "7. Delete row data with ADR 5,400, because it seems like a data entry error."
   ]
  },
  {
   "cell_type": "code",
   "execution_count": 25,
   "id": "c12e648b",
   "metadata": {},
   "outputs": [
    {
     "data": {
      "text/plain": [
       "(1, 28)"
      ]
     },
     "execution_count": 25,
     "metadata": {},
     "output_type": "execute_result"
    }
   ],
   "source": [
    "data[data['adr'] == 5400.0].shape"
   ]
  },
  {
   "cell_type": "code",
   "execution_count": 26,
   "id": "96e0f5dd",
   "metadata": {},
   "outputs": [
    {
     "data": {
      "image/png": "[encoded data removed]",
      "text/plain": [
       "<Figure size 400x400 with 1 Axes>"
      ]
     },
     "metadata": {},
     "output_type": "display_data"
    }
   ],
   "source": [
    "plt.figure(figsize=(4,4))\n",
    "sns.boxplot(y=data['adr'], color='b', orient='v')\n",
    "plt.tight_layout()\n",
    "plt.show()"
   ]
  },
  {
   "cell_type": "code",
   "execution_count": 27,
   "id": "f9a9c700",
   "metadata": {},
   "outputs": [],
   "source": [
    "data.drop(data[data['adr'] == 5400.0].index, inplace=True)"
   ]
  },
  {
   "cell_type": "markdown",
   "id": "a90f2847",
   "metadata": {},
   "source": [
    "8. Delete row data with 0 in adults column, because most of hotels won't permit anybody younger than 18 to stay in a room unaccompanied."
   ]
  },
  {
   "cell_type": "code",
   "execution_count": 28,
   "id": "1cc47c23",
   "metadata": {},
   "outputs": [
    {
     "data": {
      "text/plain": [
       "(448, 28)"
      ]
     },
     "execution_count": 28,
     "metadata": {},
     "output_type": "execute_result"
    }
   ],
   "source": [
    "data[data['adults'] == 0].shape"
   ]
  },
  {
   "cell_type": "code",
   "execution_count": 29,
   "id": "bf317a3a",
   "metadata": {},
   "outputs": [],
   "source": [
    "data.drop(data[data['adults'] == 0].index, inplace=True)"
   ]
  },
  {
   "cell_type": "code",
   "execution_count": 30,
   "id": "a6654582",
   "metadata": {},
   "outputs": [
    {
     "name": "stdout",
     "output_type": "stream",
     "text": [
      "<class 'pandas.core.frame.DataFrame'>\n",
      "Int64Index: 141497 entries, 0 to 141946\n",
      "Data columns (total 28 columns):\n",
      " #   Column                          Non-Null Count   Dtype  \n",
      "---  ------                          --------------   -----  \n",
      " 0   hotel                           141497 non-null  object \n",
      " 1   is_canceled                     141497 non-null  int64  \n",
      " 2   lead_time                       141497 non-null  int64  \n",
      " 3   arrival_date_year               141497 non-null  int64  \n",
      " 4   arrival_date_month              141497 non-null  object \n",
      " 5   arrival_date_week_number        141497 non-null  int64  \n",
      " 6   arrival_date_day_of_month       141497 non-null  int64  \n",
      " 7   stays_in_weekend_nights         141497 non-null  int64  \n",
      " 8   stays_in_week_nights            141497 non-null  int64  \n",
      " 9   adults                          141497 non-null  int64  \n",
      " 10  children                        141497 non-null  int32  \n",
      " 11  babies                          141497 non-null  int64  \n",
      " 12  meal                            141497 non-null  object \n",
      " 13  country                         141497 non-null  object \n",
      " 14  market_segment                  141497 non-null  object \n",
      " 15  distribution_channel            141497 non-null  object \n",
      " 16  is_repeated_guest               141497 non-null  int64  \n",
      " 17  previous_cancellations          141497 non-null  int64  \n",
      " 18  previous_bookings_not_canceled  141497 non-null  int64  \n",
      " 19  booking_changes                 141497 non-null  int64  \n",
      " 20  deposit_type                    141497 non-null  object \n",
      " 21  agent                           141497 non-null  object \n",
      " 22  days_in_waiting_list            141497 non-null  int64  \n",
      " 23  customer_type                   141497 non-null  object \n",
      " 24  adr                             141497 non-null  float64\n",
      " 25  required_car_parking_spaces     141497 non-null  int64  \n",
      " 26  total_of_special_requests       141497 non-null  int64  \n",
      " 27  reservation_status              141497 non-null  object \n",
      "dtypes: float64(1), int32(1), int64(16), object(10)\n",
      "memory usage: 30.8+ MB\n"
     ]
    }
   ],
   "source": [
    "data.info()"
   ]
  },
  {
   "cell_type": "code",
   "execution_count": 31,
   "id": "b678d960",
   "metadata": {},
   "outputs": [],
   "source": [
    "data.to_csv('./data/hotel_revenue_edited.csv', index=False)"
   ]
  },
  {
   "cell_type": "code",
   "execution_count": 32,
   "id": "db9dbe41",
   "metadata": {},
   "outputs": [
    {
     "data": {
      "text/plain": [
       "(141497, 28)"
      ]
     },
     "execution_count": 32,
     "metadata": {},
     "output_type": "execute_result"
    }
   ],
   "source": [
    "df = pd.read_csv('./data/hotel_revenue_edited.csv')\n",
    "df.shape"
   ]
  },
  {
   "cell_type": "code",
   "execution_count": null,
   "id": "0427674b",
   "metadata": {},
   "outputs": [],
   "source": []
  }
 ],
 "metadata": {
  "kernelspec": {
   "display_name": "Python 3 (ipykernel)",
   "language": "python",
   "name": "python3"
  },
  "language_info": {
   "codemirror_mode": {
    "name": "ipython",
    "version": 3
   },
   "file_extension": ".py",
   "mimetype": "text/x-python",
   "name": "python",
   "nbconvert_exporter": "python",
   "pygments_lexer": "ipython3",
   "version": "3.9.16"
  }
 },
 "nbformat": 4,
 "nbformat_minor": 5
}
