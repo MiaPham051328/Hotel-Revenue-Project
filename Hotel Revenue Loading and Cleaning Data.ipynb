{
 "cells": [
  {
   "cell_type": "markdown",
   "id": "8f82f02f",
   "metadata": {},
   "source": [
    "# Import Library"
   ]
  },
  {
   "cell_type": "code",
   "execution_count": null,
   "id": "4da9da4b",
   "metadata": {},
   "outputs": [],
   "source": [
    "import pandas as pd\n",
    "import numpy as np\n",
    "import matplotlib.pyplot as plt\n",
    "import seaborn as sns"
   ]
  },
  {
   "cell_type": "markdown",
   "id": "4ddc566c",
   "metadata": {},
   "source": [
    "# Load the Data (don't run this part again)"
   ]
  },
  {
   "cell_type": "code",
   "execution_count": null,
   "id": "c198c275",
   "metadata": {},
   "outputs": [],
   "source": [
    "data1 = pd.read_excel('./hotel_revenue_historical_full.xlsx', sheet_name='2018')\n",
    "data1.head()"
   ]
  },
  {
   "cell_type": "code",
   "execution_count": null,
   "id": "11650909",
   "metadata": {},
   "outputs": [],
   "source": [
    "data2 = pd.read_excel('./hotel_revenue_historical_full.xlsx', sheet_name='2019')\n",
    "data2.head()"
   ]
  },
  {
   "cell_type": "code",
   "execution_count": null,
   "id": "74a004d4",
   "metadata": {},
   "outputs": [],
   "source": [
    "data3 = pd.read_excel('./hotel_revenue_historical_full.xlsx', sheet_name='2020')\n",
    "data3.head()"
   ]
  },
  {
   "cell_type": "code",
   "execution_count": null,
   "id": "fb2c1716",
   "metadata": {},
   "outputs": [],
   "source": [
    "data4 = pd.read_excel('./hotel_revenue_historical_full.xlsx', sheet_name='meal_cost')\n",
    "data4.head()"
   ]
  },
  {
   "cell_type": "code",
   "execution_count": null,
   "id": "2de96e55",
   "metadata": {},
   "outputs": [],
   "source": [
    "data5 = pd.read_excel('./hotel_revenue_historical_full.xlsx', sheet_name='market_segment')\n",
    "data5.head(8)"
   ]
  },
  {
   "cell_type": "code",
   "execution_count": null,
   "id": "2481aaf7",
   "metadata": {},
   "outputs": [],
   "source": [
    "data6 = pd.read_excel('./country.xlsx')\n",
    "data6.head()"
   ]
  },
  {
   "cell_type": "code",
   "execution_count": null,
   "id": "c3745178",
   "metadata": {},
   "outputs": [],
   "source": [
    "data1.to_csv('HRH2018.csv', index=False)"
   ]
  },
  {
   "cell_type": "code",
   "execution_count": null,
   "id": "1d93c049",
   "metadata": {},
   "outputs": [],
   "source": [
    "data2.to_csv('HRH2019.csv', index=False)"
   ]
  },
  {
   "cell_type": "code",
   "execution_count": null,
   "id": "26c2677c",
   "metadata": {},
   "outputs": [],
   "source": [
    "data3.to_csv('HRH2020.csv', index=False)"
   ]
  },
  {
   "cell_type": "code",
   "execution_count": null,
   "id": "eff444c5",
   "metadata": {},
   "outputs": [],
   "source": [
    "data4.to_csv('meal_cost.csv', index=False)"
   ]
  },
  {
   "cell_type": "code",
   "execution_count": null,
   "id": "06725fb9",
   "metadata": {},
   "outputs": [],
   "source": [
    "data5.to_csv('market_segment.csv', index=False)"
   ]
  },
  {
   "cell_type": "code",
   "execution_count": null,
   "id": "8faa55c4",
   "metadata": {},
   "outputs": [],
   "source": [
    "data6.to_csv('country.csv', index=False)"
   ]
  },
  {
   "cell_type": "code",
   "execution_count": null,
   "id": "483396dc",
   "metadata": {},
   "outputs": [],
   "source": [
    "d1 = pd.read_csv('./data/HRH2018.csv')\n",
    "#d1.info()"
   ]
  },
  {
   "cell_type": "code",
   "execution_count": null,
   "id": "b37db643",
   "metadata": {},
   "outputs": [],
   "source": [
    "d2 = pd.read_csv('./data/HRH2019.csv')\n",
    "#d2.info()"
   ]
  },
  {
   "cell_type": "code",
   "execution_count": null,
   "id": "cfc82436",
   "metadata": {},
   "outputs": [],
   "source": [
    "d3 = pd.read_csv('./data/HRH2020.csv')\n",
    "#d3.info()"
   ]
  },
  {
   "cell_type": "code",
   "execution_count": null,
   "id": "557f2ec8",
   "metadata": {},
   "outputs": [],
   "source": [
    "d = [d1, d2, d3]\n",
    "res = pd.concat(d)"
   ]
  },
  {
   "cell_type": "code",
   "execution_count": null,
   "id": "d4bb5494",
   "metadata": {},
   "outputs": [],
   "source": [
    "print(res.shape)"
   ]
  },
  {
   "cell_type": "code",
   "execution_count": null,
   "id": "165f20c8",
   "metadata": {},
   "outputs": [],
   "source": [
    "res.to_csv('./data/hotel_revenue.csv', index=False)"
   ]
  },
  {
   "cell_type": "code",
   "execution_count": null,
   "id": "7818d20a",
   "metadata": {},
   "outputs": [],
   "source": []
  },
  {
   "cell_type": "markdown",
   "id": "e4ecffc0",
   "metadata": {},
   "source": [
    "# Data Processing"
   ]
  },
  {
   "cell_type": "code",
   "execution_count": null,
   "id": "8e22a0d0",
   "metadata": {},
   "outputs": [],
   "source": [
    "data = pd.read_csv('./data/hotel_revenue.csv')\n",
    "pd.set_option('display.max_column', None)\n",
    "data.head()\n",
    "# data.info()"
   ]
  },
  {
   "cell_type": "code",
   "execution_count": null,
   "id": "a74ffa24",
   "metadata": {},
   "outputs": [],
   "source": []
  },
  {
   "cell_type": "markdown",
   "id": "b8260c46",
   "metadata": {},
   "source": [
    "## Check data types"
   ]
  },
  {
   "cell_type": "code",
   "execution_count": null,
   "id": "1b9cc036",
   "metadata": {},
   "outputs": [],
   "source": [
    "data.info()"
   ]
  },
  {
   "cell_type": "markdown",
   "id": "065731ed",
   "metadata": {},
   "source": [
    "Data type of agent and company should be object, since the values represent the ID of the agent that made the booking and the ID of the company respectively.\n",
    "\n",
    "To change the data type from float to object/string, change them into integer first to avoid the decimal-form values. To do so, null values in those columns should be filled with a number, 0.\n",
    "\n",
    "Data type of children also should be integer and the null values in children column means there is no children, we assigned 0 into it as well (8 of null values)."
   ]
  },
  {
   "cell_type": "code",
   "execution_count": null,
   "id": "88a9697d",
   "metadata": {},
   "outputs": [],
   "source": [
    "# Convert columns to appropriate datatypes\n",
    "data['company'] = data['company'].fillna(0).astype(int)\n",
    "data['company'] = data['company'].astype(str)\n",
    "data.loc[data['company'] == '0', \"company\"] = np.nan\n",
    "\n",
    "data['agent'] = data['agent'].fillna(0).astype(int)\n",
    "data['agent'] = data['agent'].astype(str)\n",
    "data.loc[data['agent'] == '0', \"agent\"] = np.nan\n",
    "\n",
    "data['children'] = data['children'].fillna(0).astype(int)"
   ]
  },
  {
   "cell_type": "code",
   "execution_count": null,
   "id": "6d6c1b89",
   "metadata": {},
   "outputs": [],
   "source": []
  },
  {
   "cell_type": "markdown",
   "id": "45e1f14a",
   "metadata": {},
   "source": [
    "## Handle Missing Values"
   ]
  },
  {
   "cell_type": "code",
   "execution_count": null,
   "id": "2a895dc2",
   "metadata": {},
   "outputs": [],
   "source": [
    "data.isnull().sum()/len(data)*100"
   ]
  },
  {
   "cell_type": "markdown",
   "id": "d2f88265",
   "metadata": {},
   "source": [
    "Since the missing values of company column is up to 94% --> can drop this column and drop some unrelated columns as well"
   ]
  },
  {
   "cell_type": "code",
   "execution_count": null,
   "id": "c883da18",
   "metadata": {},
   "outputs": [],
   "source": [
    "data.drop(['company', 'reserved_room_type','assigned_room_type', 'reservation_status_date'], axis=1, inplace=True)"
   ]
  },
  {
   "cell_type": "markdown",
   "id": "90d7d107",
   "metadata": {},
   "source": [
    "The null values in agent column possibly means that the booking wasn't through any agent, then we assigned \"No Agent\" into it as a value."
   ]
  },
  {
   "cell_type": "code",
   "execution_count": null,
   "id": "30672108",
   "metadata": {},
   "outputs": [],
   "source": [
    "data['agent'] = data['agent'].fillna(\"No Agent\")"
   ]
  },
  {
   "cell_type": "markdown",
   "id": "0417949e",
   "metadata": {},
   "source": [
    "Fill null values in country column with the highest frequency value (mode) (625 of blank values)"
   ]
  },
  {
   "cell_type": "code",
   "execution_count": null,
   "id": "020eb09b",
   "metadata": {},
   "outputs": [],
   "source": [
    "data['country'] = data['country'].fillna(data['country'].mode()[0])"
   ]
  },
  {
   "cell_type": "code",
   "execution_count": null,
   "id": "7ca6fc54",
   "metadata": {},
   "outputs": [],
   "source": [
    "data.isnull().sum()/len(data)*100"
   ]
  },
  {
   "cell_type": "code",
   "execution_count": null,
   "id": "01135d18",
   "metadata": {},
   "outputs": [],
   "source": []
  },
  {
   "cell_type": "markdown",
   "id": "c2a56f7b",
   "metadata": {},
   "source": [
    "## Handle Invalid Values"
   ]
  },
  {
   "cell_type": "code",
   "execution_count": null,
   "id": "30653fcc",
   "metadata": {},
   "outputs": [],
   "source": [
    "# get the categorical and numeric column names\n",
    "num_cols = data.select_dtypes(include = 'number').columns\n",
    "cat_cols = data.select_dtypes(include = 'object').columns"
   ]
  },
  {
   "cell_type": "code",
   "execution_count": null,
   "id": "6e1e860c",
   "metadata": {},
   "outputs": [],
   "source": [
    "# statictic descriptive categorical columns\n",
    "data[cat_cols].describe().T"
   ]
  },
  {
   "cell_type": "markdown",
   "id": "dd44f27c",
   "metadata": {},
   "source": [
    "1. Replace 'Undefined' values in meal column with highest frequency value 'BB'"
   ]
  },
  {
   "cell_type": "code",
   "execution_count": null,
   "id": "63abc7da",
   "metadata": {},
   "outputs": [],
   "source": [
    "data['meal'].value_counts()"
   ]
  },
  {
   "cell_type": "code",
   "execution_count": null,
   "id": "e9c19d59",
   "metadata": {},
   "outputs": [],
   "source": [
    "data.loc[data['meal']=='Undefined', 'meal'] = 'BB'"
   ]
  },
  {
   "cell_type": "markdown",
   "id": "82e1136a",
   "metadata": {},
   "source": [
    "2. Replace 'Undefined' values in market_segment with the highest frequency value 'Online TA'"
   ]
  },
  {
   "cell_type": "code",
   "execution_count": null,
   "id": "6d0cacf2",
   "metadata": {},
   "outputs": [],
   "source": [
    "data['market_segment'].value_counts()"
   ]
  },
  {
   "cell_type": "code",
   "execution_count": null,
   "id": "0e222a8b",
   "metadata": {},
   "outputs": [],
   "source": [
    "data.loc[data['market_segment']=='Undefined', 'market_segment'] = 'Online TA'"
   ]
  },
  {
   "cell_type": "markdown",
   "id": "26195fc7",
   "metadata": {},
   "source": [
    "3. Replace 'Undefined' values in distribution_channel with 'TA/TO'"
   ]
  },
  {
   "cell_type": "code",
   "execution_count": null,
   "id": "54e412da",
   "metadata": {},
   "outputs": [],
   "source": [
    "data['distribution_channel'].value_counts()"
   ]
  },
  {
   "cell_type": "code",
   "execution_count": null,
   "id": "3614fa33",
   "metadata": {},
   "outputs": [],
   "source": [
    "data.loc[data['distribution_channel'] == 'Undefined', 'distribution_channel'] = 'TA/TO'"
   ]
  },
  {
   "cell_type": "markdown",
   "id": "c6a3020b",
   "metadata": {},
   "source": [
    "4. Replace 'CN' values in country with 'CAN'"
   ]
  },
  {
   "cell_type": "code",
   "execution_count": null,
   "id": "291cf478",
   "metadata": {},
   "outputs": [],
   "source": [
    "data['country'].value_counts()"
   ]
  },
  {
   "cell_type": "code",
   "execution_count": null,
   "id": "c98b4590",
   "metadata": {},
   "outputs": [],
   "source": [
    "data.loc[data['country'] == 'CN', 'country'] = 'CAN'"
   ]
  },
  {
   "cell_type": "code",
   "execution_count": null,
   "id": "a89408d9",
   "metadata": {},
   "outputs": [],
   "source": [
    "# statictic descriptive numerical columns\n",
    "data[num_cols].describe().T"
   ]
  },
  {
   "cell_type": "markdown",
   "id": "991721e3",
   "metadata": {},
   "source": [
    "5. Replace 53 in arrival_date_week_number to 52, because there are only 52 weeks in a year."
   ]
  },
  {
   "cell_type": "code",
   "execution_count": null,
   "id": "ddf28750",
   "metadata": {},
   "outputs": [],
   "source": [
    "data[data['arrival_date_week_number'] == 53].shape"
   ]
  },
  {
   "cell_type": "code",
   "execution_count": null,
   "id": "25a16a47",
   "metadata": {},
   "outputs": [],
   "source": [
    "data.loc[data['arrival_date_week_number'] == 53.0, \"arrival_date_week_number\"] = 52"
   ]
  },
  {
   "cell_type": "markdown",
   "id": "19a3401d",
   "metadata": {},
   "source": [
    "6. Delete row data consist of negative ADR (average daily rate), because it's not possible that room price is negative"
   ]
  },
  {
   "cell_type": "code",
   "execution_count": null,
   "id": "8098ce76",
   "metadata": {},
   "outputs": [],
   "source": [
    "data[data['adr'] < 0].shape"
   ]
  },
  {
   "cell_type": "code",
   "execution_count": null,
   "id": "06629877",
   "metadata": {},
   "outputs": [],
   "source": [
    "data.drop(data[data['adr'] < 0].index, inplace=True)"
   ]
  },
  {
   "cell_type": "markdown",
   "id": "ae4c0846",
   "metadata": {},
   "source": [
    "7. Delete row data with ADR 5,400, because it seems like a data entry error."
   ]
  },
  {
   "cell_type": "code",
   "execution_count": null,
   "id": "c12e648b",
   "metadata": {},
   "outputs": [],
   "source": [
    "data[data['adr'] == 5400.0].shape"
   ]
  },
  {
   "cell_type": "code",
   "execution_count": null,
   "id": "96e0f5dd",
   "metadata": {},
   "outputs": [],
   "source": [
    "plt.figure(figsize=(4,4))\n",
    "sns.boxplot(y=data['adr'], color='b', orient='v')\n",
    "plt.tight_layout()\n",
    "plt.show()"
   ]
  },
  {
   "cell_type": "code",
   "execution_count": null,
   "id": "f9a9c700",
   "metadata": {},
   "outputs": [],
   "source": [
    "data.drop(data[data['adr'] == 5400.0].index, inplace=True)"
   ]
  },
  {
   "cell_type": "markdown",
   "id": "a90f2847",
   "metadata": {},
   "source": [
    "8. Delete row data with 0 in adults column, because most of hotels won't permit anybody younger than 18 to stay in a room unaccompanied."
   ]
  },
  {
   "cell_type": "code",
   "execution_count": null,
   "id": "1cc47c23",
   "metadata": {},
   "outputs": [],
   "source": [
    "data[data['adults'] == 0].shape"
   ]
  },
  {
   "cell_type": "code",
   "execution_count": null,
   "id": "bf317a3a",
   "metadata": {},
   "outputs": [],
   "source": [
    "data.drop(data[data['adults'] == 0].index, inplace=True)"
   ]
  },
  {
   "cell_type": "code",
   "execution_count": null,
   "id": "a6654582",
   "metadata": {},
   "outputs": [],
   "source": [
    "data.info()"
   ]
  },
  {
   "cell_type": "code",
   "execution_count": null,
   "id": "b678d960",
   "metadata": {},
   "outputs": [],
   "source": [
    "data.to_csv('./data/hotel_revenue_edited.csv', index=False)"
   ]
  },
  {
   "cell_type": "code",
   "execution_count": null,
   "id": "db9dbe41",
   "metadata": {},
   "outputs": [],
   "source": [
    "df = pd.read_csv('./data/hotel_revenue_edited.csv')\n",
    "df.shape"
   ]
  },
  {
   "cell_type": "code",
   "execution_count": null,
   "id": "0427674b",
   "metadata": {},
   "outputs": [],
   "source": []
  }
 ],
 "metadata": {
  "kernelspec": {
   "display_name": "Python 3 (ipykernel)",
   "language": "python",
   "name": "python3"
  },
  "language_info": {
   "codemirror_mode": {
    "name": "ipython",
    "version": 3
   },
   "file_extension": ".py",
   "mimetype": "text/x-python",
   "name": "python",
   "nbconvert_exporter": "python",
   "pygments_lexer": "ipython3",
   "version": "3.9.16"
  }
 },
 "nbformat": 4,
 "nbformat_minor": 5
}
